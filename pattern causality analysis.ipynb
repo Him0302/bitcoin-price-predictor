{
 "cells": [
  {
   "cell_type": "code",
   "execution_count": 1,
   "metadata": {
    "_cell_guid": "b1076dfc-b9ad-4769-8c92-a6c4dae69d19",
    "_uuid": "8f2839f25d086af736a60e9eeb907d3b93b6e0e5"
   },
   "outputs": [],
   "source": [
    "import numpy as np # linear algebra\n",
    "import pandas as pd # data processing, CSV file I/O (e.g. pd.read_csv)\n",
    "from scipy.integrate import odeint\n",
    "import matplotlib.pyplot as plt\n",
    "import statsmodels.api as sm\n"
   ]
  },
  {
   "cell_type": "code",
   "execution_count": 2,
   "metadata": {},
   "outputs": [
    {
     "name": "stdout",
     "output_type": "stream",
     "text": [
      "Index(['Unnamed: 0', 'Date', 'Natural_Gas_Price', 'Natural_Gas_Vol.',\n",
      "       'Crude_oil_Price', 'Crude_oil_Vol.', 'Copper_Price', 'Copper_Vol.',\n",
      "       'Bitcoin_Price', 'Bitcoin_Vol.', 'Platinum_Price', 'Platinum_Vol.',\n",
      "       'Ethereum_Price', 'Ethereum_Vol.', 'S&P_500_Price', 'Nasdaq_100_Price',\n",
      "       'Nasdaq_100_Vol.', 'Apple_Price', 'Apple_Vol.', 'Tesla_Price',\n",
      "       'Tesla_Vol.', 'Microsoft_Price', 'Microsoft_Vol.', 'Silver_Price',\n",
      "       'Silver_Vol.', 'Google_Price', 'Google_Vol.', 'Nvidia_Price',\n",
      "       'Nvidia_Vol.', 'Berkshire_Price', 'Berkshire_Vol.', 'Netflix_Price',\n",
      "       'Netflix_Vol.', 'Amazon_Price', 'Amazon_Vol.', 'Meta_Price',\n",
      "       'Meta_Vol.', 'Gold_Price', 'Gold_Vol.'],\n",
      "      dtype='object')\n",
      "   Unnamed: 0        Date  Natural_Gas_Price  Natural_Gas_Vol.  \\\n",
      "0           0  02-02-2024              2.079               NaN   \n",
      "1           1  01-02-2024              2.050          161340.0   \n",
      "2           2  31-01-2024              2.100          142860.0   \n",
      "3           3  30-01-2024              2.077          139750.0   \n",
      "4           4  29-01-2024              2.490            3590.0   \n",
      "\n",
      "   Crude_oil_Price  Crude_oil_Vol.  Copper_Price  Copper_Vol. Bitcoin_Price  \\\n",
      "0            72.28             NaN        3.8215          NaN     43,194.70   \n",
      "1            73.82        577940.0        3.8535          NaN     43,081.40   \n",
      "2            75.85        344490.0        3.9060          NaN     42,580.50   \n",
      "3            77.82        347240.0        3.9110          NaN     42,946.20   \n",
      "4            76.78        331930.0        3.8790          NaN     43,299.80   \n",
      "\n",
      "   Bitcoin_Vol.  ... Berkshire_Price  Berkshire_Vol. Netflix_Price  \\\n",
      "0       42650.0  ...        5,89,498         10580.0        564.64   \n",
      "1       47690.0  ...        5,81,600          9780.0        567.51   \n",
      "2       56480.0  ...        5,78,020          9720.0        564.11   \n",
      "3       55130.0  ...        5,84,680          9750.0        562.85   \n",
      "4       45230.0  ...        5,78,800         13850.0        575.79   \n",
      "\n",
      "   Netflix_Vol. Amazon_Price  Amazon_Vol.  Meta_Price   Meta_Vol.  Gold_Price  \\\n",
      "0     4030000.0       171.81  117220000.0      474.99  84710000.0    2,053.70   \n",
      "1     3150000.0       159.28   66360000.0      394.78  25140000.0    2,071.10   \n",
      "2     4830000.0       155.20   49690000.0      390.14  20010000.0    2,067.40   \n",
      "3     6120000.0       159.00   42290000.0      400.06  18610000.0    2,050.90   \n",
      "4     6880000.0       161.26   42840000.0      401.02  17790000.0    2,034.90   \n",
      "\n",
      "   Gold_Vol.  \n",
      "0        NaN  \n",
      "1   260920.0  \n",
      "2   238370.0  \n",
      "3   214590.0  \n",
      "4     1780.0  \n",
      "\n",
      "[5 rows x 39 columns]\n"
     ]
    }
   ],
   "source": [
    "data=pd.read_csv(\"Stock Market Dataset.csv\")\n",
    "print(data.columns)\n",
    "print(data.head())"
   ]
  },
  {
   "cell_type": "code",
   "execution_count": 3,
   "metadata": {},
   "outputs": [
    {
     "name": "stdout",
     "output_type": "stream",
     "text": [
      "Unnamed: 0\n",
      "float64\n",
      "Natural_Gas_Price\n",
      "float64\n",
      "Natural_Gas_Vol.\n",
      "float64\n",
      "Crude_oil_Price\n",
      "float64\n",
      "Crude_oil_Vol.\n",
      "float64\n",
      "Copper_Price\n",
      "float64\n",
      "Copper_Vol.\n",
      "float64\n",
      "Bitcoin_Price\n",
      "float64\n",
      "Bitcoin_Vol.\n",
      "float64\n",
      "Platinum_Price\n",
      "float64\n",
      "Platinum_Vol.\n",
      "float64\n",
      "Ethereum_Price\n",
      "float64\n",
      "Ethereum_Vol.\n",
      "float64\n",
      "S&P_500_Price\n",
      "float64\n",
      "Nasdaq_100_Price\n",
      "float64\n",
      "Nasdaq_100_Vol.\n",
      "float64\n",
      "Apple_Price\n",
      "float64\n",
      "Apple_Vol.\n",
      "float64\n",
      "Tesla_Price\n",
      "float64\n",
      "Tesla_Vol.\n",
      "float64\n",
      "Microsoft_Price\n",
      "float64\n",
      "Microsoft_Vol.\n",
      "float64\n",
      "Silver_Price\n",
      "float64\n",
      "Silver_Vol.\n",
      "float64\n",
      "Google_Price\n",
      "float64\n",
      "Google_Vol.\n",
      "float64\n",
      "Nvidia_Price\n",
      "float64\n",
      "Nvidia_Vol.\n",
      "float64\n",
      "Berkshire_Price\n",
      "float64\n",
      "Berkshire_Vol.\n",
      "float64\n",
      "Netflix_Price\n",
      "float64\n",
      "Netflix_Vol.\n",
      "float64\n",
      "Amazon_Price\n",
      "float64\n",
      "Amazon_Vol.\n",
      "float64\n",
      "Meta_Price\n",
      "float64\n",
      "Meta_Vol.\n",
      "float64\n",
      "Gold_Price\n",
      "float64\n",
      "Gold_Vol.\n",
      "float64\n"
     ]
    }
   ],
   "source": [
    "data=data.drop(columns=\"Date\")\n",
    "data = data.replace(',', '', regex=True).astype(float)\n",
    "for column in data.columns:\n",
    "    print(column)\n",
    "    print(data[column].dtype)"
   ]
  },
  {
   "cell_type": "code",
   "execution_count": 4,
   "metadata": {},
   "outputs": [],
   "source": [
    "data['Gold_Price'] = data['Gold_Price'].astype('float64')\n",
    "data['Berkshire_Price'] = data['Berkshire_Price'].astype('float64')\n",
    "data['Bitcoin_Price'] = data['Bitcoin_Price'].astype('float64')\n",
    "data['Platinum_Price'] = data['Platinum_Price'].astype('float64')\n",
    "data['Ethereum_Price'] = data['Ethereum_Price'].astype('float64')\n",
    "data['S&P_500_Price'] =data['S&P_500_Price'].astype('float64')\n",
    "data['Nasdaq_100_Price'] =data['Nasdaq_100_Price'].astype('float64')"
   ]
  },
  {
   "cell_type": "code",
   "execution_count": 5,
   "metadata": {},
   "outputs": [
    {
     "name": "stdout",
     "output_type": "stream",
     "text": [
      "Unnamed: 0             0\n",
      "Natural_Gas_Price      0\n",
      "Natural_Gas_Vol.       4\n",
      "Crude_oil_Price        0\n",
      "Crude_oil_Vol.        23\n",
      "Copper_Price           0\n",
      "Copper_Vol.           37\n",
      "Bitcoin_Price          0\n",
      "Bitcoin_Vol.           0\n",
      "Platinum_Price         0\n",
      "Platinum_Vol.        607\n",
      "Ethereum_Price         0\n",
      "Ethereum_Vol.          0\n",
      "S&P_500_Price          0\n",
      "Nasdaq_100_Price       0\n",
      "Nasdaq_100_Vol.        1\n",
      "Apple_Price            0\n",
      "Apple_Vol.             0\n",
      "Tesla_Price            0\n",
      "Tesla_Vol.             0\n",
      "Microsoft_Price        0\n",
      "Microsoft_Vol.         0\n",
      "Silver_Price           0\n",
      "Silver_Vol.           47\n",
      "Google_Price           0\n",
      "Google_Vol.            0\n",
      "Nvidia_Price           0\n",
      "Nvidia_Vol.            0\n",
      "Berkshire_Price        0\n",
      "Berkshire_Vol.         0\n",
      "Netflix_Price          0\n",
      "Netflix_Vol.           0\n",
      "Amazon_Price           0\n",
      "Amazon_Vol.            0\n",
      "Meta_Price             0\n",
      "Meta_Vol.              0\n",
      "Gold_Price             0\n",
      "Gold_Vol.              2\n",
      "dtype: int64\n"
     ]
    }
   ],
   "source": [
    "#finding empty values \n",
    "empty_values = data.isna().sum()\n",
    "print(empty_values)"
   ]
  },
  {
   "cell_type": "code",
   "execution_count": 6,
   "metadata": {},
   "outputs": [],
   "source": [
    "# -----------------------------------------------\n",
    "# STEP 1: CREATE THE ORIGINAL BROWNIAN MOTION DATA\n",
    "# -----------------------------------------------\n",
    "# You create a simple Brownian motion (random walk) by cumulatively summing random steps.\n",
    "np.random.seed(42)\n",
    "n = 300\n",
    "steps = np.random.normal(loc=0, scale=1, size=n)\n",
    "brownian = np.cumsum(steps)\n",
    "\n",
    "# ------------------------------------------------\n",
    "# STEP 2: INTRODUCE MULTIPLE MISSING VALUE REGIONS\n",
    "# ------------------------------------------------\n",
    "# Here, you introduce several disjoint intervals of missing values.\n",
    "# This simulates real-world scenarios where data might be missing in multiple places.\n",
    "brownian_with_nans = brownian.copy()\n",
    "missing_regions = [(50, 55), (100, 102), (200, 205)]\n",
    "for start, end in missing_regions:\n",
    "    brownian_with_nans[start:end] = np.nan"
   ]
  },
  {
   "cell_type": "code",
   "execution_count": 7,
   "metadata": {},
   "outputs": [],
   "source": [
    "# (2) Average of Neighbors:\n",
    "# For each missing value, you will replace it with the average of its immediate neighbors.\n",
    "# You need to handle ALL missing intervals, not just the first one.\n",
    "brownian_avg = brownian_with_nans.copy()\n",
    "for start, end in missing_regions:\n",
    "    for i in range(start, end):\n",
    "        if i > 0 and i < len(brownian_avg)-1:\n",
    "            # Take average of the value before and after the missing point\n",
    "            left_val = brownian_avg[i-1]\n",
    "            right_val = brownian_avg[i+1]\n",
    "            # Only fill if both neighbors are not NaN, otherwise, skip or handle differently\n",
    "            if not np.isnan(left_val) and not np.isnan(right_val):\n",
    "                brownian_avg[i] = 0.5*(left_val + right_val)\n",
    "            else:\n",
    "                # If a neighbor is also missing, you could choose another strategy,\n",
    "                # such as forward fill or skip. For simplicity, let's forward fill here.\n",
    "                brownian_avg[i] = brownian_avg[i-1]"
   ]
  },
  {
   "cell_type": "code",
   "execution_count": 8,
   "metadata": {},
   "outputs": [
    {
     "data": {
      "text/plain": [
       "<matplotlib.legend.Legend at 0x7f516f016990>"
      ]
     },
     "execution_count": 8,
     "metadata": {},
     "output_type": "execute_result"
    },
    {
     "data": {
      "image/png": "[encoded data removed]",
      "text/plain": [
       "<Figure size 1200x1000 with 3 Axes>"
      ]
     },
     "metadata": {},
     "output_type": "display_data"
    }
   ],
   "source": [
    "\n",
    "# ---------------------------------------------------\n",
    "# STEP 4: VISUALIZATION\n",
    "# ---------------------------------------------------\n",
    "# You will create a subplot for each method to compare the original data (with NaNs) and the filled data.\n",
    "# In each subplot:\n",
    "# - The original data (with NaNs) is shown as a black line with gaps.\n",
    "# - The filled data is shown in a distinct color line.\n",
    "# - The missing regions are highlighted with a shaded area.\n",
    "# - The replaced (filled-in) values are marked with a distinct marker in the same color as the line to draw attention.\n",
    "\n",
    "fig, axs = plt.subplots(3, 1, figsize=(12, 10))\n",
    "\n",
    "# To make it easier to highlight all missing regions consistently, let's do a small helper function:\n",
    "def highlight_missing_regions(ax, regions, color):\n",
    "    for (start, end) in regions:\n",
    "        # Highlight the missing region with a transparent shaded rectangle\n",
    "        ax.axvspan(start, end-1, color=color, alpha=0.1)\n",
    "\n",
    "def mark_filled_points(ax, original_with_nans, filled_data, regions, marker_color, marker_style):\n",
    "    # Mark each originally missing value now filled\n",
    "    for (start, end) in regions:\n",
    "        missing_x = np.arange(start, end)\n",
    "        # The filled values at these indices\n",
    "        missing_y = filled_data[start:end]\n",
    "        ax.plot(missing_x, missing_y, marker_style, color=marker_color, markersize=8,\n",
    "                label='Replaced Values' if start == regions[0][0] else None)# Subplot 2: Average of Neighbors\n",
    "# ----------------------------\n",
    "# Plot original\n",
    "axs[1].plot(brownian_with_nans, color='black', alpha=0.7, label='Original (with NaN)')\n",
    "# Plot filled result\n",
    "axs[1].plot(brownian_avg, color='green', label='Average of Neighbors')\n",
    "highlight_missing_regions(axs[1], missing_regions, 'green')\n",
    "mark_filled_points(axs[1], brownian_with_nans, brownian_avg, missing_regions, 'green', 'o')\n",
    "\n",
    "axs[1].set_title(\"Average of Neighbors: Missing Values Replaced by the Mean of Surrounding Points\")\n",
    "axs[1].set_xlabel(\"Time Index\")\n",
    "axs[1].set_ylabel(\"Value\")\n",
    "axs[1].legend()\n"
   ]
  },
  {
   "cell_type": "code",
   "execution_count": 9,
   "metadata": {},
   "outputs": [],
   "source": [
    "import numpy as np\n",
    "import pandas as pd\n",
    "\n",
    "def fill_avg_neighbors(series):\n",
    "    series = series.copy()\n",
    "    nan_indices = np.where(series.isna())[0]  # Get all NaN indices\n",
    "    \n",
    "    for i in nan_indices:\n",
    "        if i==0:\n",
    "            if np.isnan(series[i]):\n",
    "                series[i]=series[i+1]\n",
    "        if i > 0 and i < len(series) - 1:  # Ensure it's not at boundaries\n",
    "            left_val = series[i - 1]\n",
    "            right_val = series[i + 1]\n",
    "            \n",
    "            if not np.isnan(left_val) and not np.isnan(right_val):\n",
    "                series[i] = 0.5 * (left_val + right_val)\n",
    "            else:\n",
    "                # If no valid neighbors, fallback to forward fill (or backward if at start)\n",
    "                if i > 0:\n",
    "                    series[i] = series[i - 1]  # Forward fill\n",
    "                else:\n",
    "                    series[i] = series[i + 1]  # Backward fill for first row NaN\n",
    "                    \n",
    "    return series\n",
    "\n",
    "# Apply this function to all numeric columns\n",
    "data = data.apply(fill_avg_neighbors, axis=0)\n"
   ]
  },
  {
   "cell_type": "code",
   "execution_count": 10,
   "metadata": {},
   "outputs": [
    {
     "name": "stdout",
     "output_type": "stream",
     "text": [
      "<class 'pandas.core.frame.DataFrame'>\n",
      "Unnamed: 0            0\n",
      "Natural_Gas_Price     0\n",
      "Natural_Gas_Vol.      0\n",
      "Crude_oil_Price       0\n",
      "Crude_oil_Vol.        0\n",
      "Copper_Price          0\n",
      "Copper_Vol.          26\n",
      "Bitcoin_Price         0\n",
      "Bitcoin_Vol.          0\n",
      "Platinum_Price        0\n",
      "Platinum_Vol.        24\n",
      "Ethereum_Price        0\n",
      "Ethereum_Vol.         0\n",
      "S&P_500_Price         0\n",
      "Nasdaq_100_Price      0\n",
      "Nasdaq_100_Vol.       0\n",
      "Apple_Price           0\n",
      "Apple_Vol.            0\n",
      "Tesla_Price           0\n",
      "Tesla_Vol.            0\n",
      "Microsoft_Price       0\n",
      "Microsoft_Vol.        0\n",
      "Silver_Price          0\n",
      "Silver_Vol.           0\n",
      "Google_Price          0\n",
      "Google_Vol.           0\n",
      "Nvidia_Price          0\n",
      "Nvidia_Vol.           0\n",
      "Berkshire_Price       0\n",
      "Berkshire_Vol.        0\n",
      "Netflix_Price         0\n",
      "Netflix_Vol.          0\n",
      "Amazon_Price          0\n",
      "Amazon_Vol.           0\n",
      "Meta_Price            0\n",
      "Meta_Vol.             0\n",
      "Gold_Price            0\n",
      "Gold_Vol.             0\n",
      "dtype: int64\n"
     ]
    }
   ],
   "source": [
    "print(type(data.isna()))\n",
    "empty_values = data.isna().sum()\n",
    "print(empty_values)"
   ]
  },
  {
   "cell_type": "code",
   "execution_count": 11,
   "metadata": {},
   "outputs": [],
   "source": [
    "# Assuming 'data' is your DataFrame with NaNs\n",
    "columns_to_interpolate = ['Platinum_Vol.', 'Copper_Vol.']\n",
    "data[columns_to_interpolate] = data[columns_to_interpolate].apply(lambda col: col.interpolate(method='linear'), axis=0)"
   ]
  },
  {
   "cell_type": "code",
   "execution_count": 12,
   "metadata": {},
   "outputs": [],
   "source": [
    "data['Platinum_Vol.'] = data['Platinum_Vol.'].fillna(data['Platinum_Vol.'].mean())\n",
    "data['Copper_Vol.'] = data['Copper_Vol.'].fillna(data['Copper_Vol.'].mean())"
   ]
  },
  {
   "cell_type": "code",
   "execution_count": 13,
   "metadata": {
    "scrolled": true
   },
   "outputs": [
    {
     "name": "stdout",
     "output_type": "stream",
     "text": [
      "Unnamed: 0           0\n",
      "Natural_Gas_Price    0\n",
      "Natural_Gas_Vol.     0\n",
      "Crude_oil_Price      0\n",
      "Crude_oil_Vol.       0\n",
      "Copper_Price         0\n",
      "Copper_Vol.          0\n",
      "Bitcoin_Price        0\n",
      "Bitcoin_Vol.         0\n",
      "Platinum_Price       0\n",
      "Platinum_Vol.        0\n",
      "Ethereum_Price       0\n",
      "Ethereum_Vol.        0\n",
      "S&P_500_Price        0\n",
      "Nasdaq_100_Price     0\n",
      "Nasdaq_100_Vol.      0\n",
      "Apple_Price          0\n",
      "Apple_Vol.           0\n",
      "Tesla_Price          0\n",
      "Tesla_Vol.           0\n",
      "Microsoft_Price      0\n",
      "Microsoft_Vol.       0\n",
      "Silver_Price         0\n",
      "Silver_Vol.          0\n",
      "Google_Price         0\n",
      "Google_Vol.          0\n",
      "Nvidia_Price         0\n",
      "Nvidia_Vol.          0\n",
      "Berkshire_Price      0\n",
      "Berkshire_Vol.       0\n",
      "Netflix_Price        0\n",
      "Netflix_Vol.         0\n",
      "Amazon_Price         0\n",
      "Amazon_Vol.          0\n",
      "Meta_Price           0\n",
      "Meta_Vol.            0\n",
      "Gold_Price           0\n",
      "Gold_Vol.            0\n",
      "dtype: int64\n"
     ]
    }
   ],
   "source": [
    "empty_values = data.isna().sum()\n",
    "print(empty_values)"
   ]
  },
  {
   "cell_type": "code",
   "execution_count": 14,
   "metadata": {},
   "outputs": [
    {
     "name": "stdout",
     "output_type": "stream",
     "text": [
      "Collecting pattern_causality\n",
      "  Using cached pattern_causality-1.0.3-cp311-cp311-linux_x86_64.whl\n",
      "Requirement already satisfied: numpy>=1.19.0 in /opt/conda/lib/python3.11/site-packages (from pattern_causality) (1.26.4)\n",
      "Requirement already satisfied: pandas>=1.0.0 in /opt/conda/lib/python3.11/site-packages (from pattern_causality) (2.2.2)\n",
      "Requirement already satisfied: python-dateutil>=2.8.2 in /opt/conda/lib/python3.11/site-packages (from pandas>=1.0.0->pattern_causality) (2.9.0)\n",
      "Requirement already satisfied: pytz>=2020.1 in /opt/conda/lib/python3.11/site-packages (from pandas>=1.0.0->pattern_causality) (2024.1)\n",
      "Requirement already satisfied: tzdata>=2022.7 in /opt/conda/lib/python3.11/site-packages (from pandas>=1.0.0->pattern_causality) (2024.2)\n",
      "Requirement already satisfied: six>=1.5 in /opt/conda/lib/python3.11/site-packages (from python-dateutil>=2.8.2->pandas>=1.0.0->pattern_causality) (1.16.0)\n",
      "Installing collected packages: pattern_causality\n",
      "Successfully installed pattern_causality-1.0.3\n",
      "Note: you may need to restart the kernel to use updated packages.\n"
     ]
    }
   ],
   "source": [
    "pip install pattern_causality"
   ]
  },
  {
   "cell_type": "code",
   "execution_count": 15,
   "metadata": {},
   "outputs": [],
   "source": [
    "from pattern_causality import pattern_causality, load_data"
   ]
  },
  {
   "cell_type": "code",
   "execution_count": 16,
   "metadata": {},
   "outputs": [],
   "source": [
    "# Initialize pattern causality analyzer\n",
    "pc = pattern_causality(verbose=True)"
   ]
  },
  {
   "cell_type": "code",
   "execution_count": 17,
   "metadata": {},
   "outputs": [
    {
     "data": {
      "text/plain": [
       "Index(['Unnamed: 0', 'Natural_Gas_Price', 'Natural_Gas_Vol.',\n",
       "       'Crude_oil_Price', 'Crude_oil_Vol.', 'Copper_Price', 'Copper_Vol.',\n",
       "       'Bitcoin_Price', 'Bitcoin_Vol.', 'Platinum_Price', 'Platinum_Vol.',\n",
       "       'Ethereum_Price', 'Ethereum_Vol.', 'S&P_500_Price', 'Nasdaq_100_Price',\n",
       "       'Nasdaq_100_Vol.', 'Apple_Price', 'Apple_Vol.', 'Tesla_Price',\n",
       "       'Tesla_Vol.', 'Microsoft_Price', 'Microsoft_Vol.', 'Silver_Price',\n",
       "       'Silver_Vol.', 'Google_Price', 'Google_Vol.', 'Nvidia_Price',\n",
       "       'Nvidia_Vol.', 'Berkshire_Price', 'Berkshire_Vol.', 'Netflix_Price',\n",
       "       'Netflix_Vol.', 'Amazon_Price', 'Amazon_Vol.', 'Meta_Price',\n",
       "       'Meta_Vol.', 'Gold_Price', 'Gold_Vol.'],\n",
       "      dtype='object')"
      ]
     },
     "execution_count": 17,
     "metadata": {},
     "output_type": "execute_result"
    }
   ],
   "source": [
    "data.columns"
   ]
  },
  {
   "cell_type": "code",
   "execution_count": 18,
   "metadata": {},
   "outputs": [],
   "source": [
    "data = data.drop(data.columns[0], axis=1)"
   ]
  },
  {
   "cell_type": "code",
   "execution_count": 19,
   "metadata": {},
   "outputs": [
    {
     "data": {
      "text/plain": [
       "Index(['Natural_Gas_Price', 'Natural_Gas_Vol.', 'Crude_oil_Price',\n",
       "       'Crude_oil_Vol.', 'Copper_Price', 'Copper_Vol.', 'Bitcoin_Price',\n",
       "       'Bitcoin_Vol.', 'Platinum_Price', 'Platinum_Vol.', 'Ethereum_Price',\n",
       "       'Ethereum_Vol.', 'S&P_500_Price', 'Nasdaq_100_Price', 'Nasdaq_100_Vol.',\n",
       "       'Apple_Price', 'Apple_Vol.', 'Tesla_Price', 'Tesla_Vol.',\n",
       "       'Microsoft_Price', 'Microsoft_Vol.', 'Silver_Price', 'Silver_Vol.',\n",
       "       'Google_Price', 'Google_Vol.', 'Nvidia_Price', 'Nvidia_Vol.',\n",
       "       'Berkshire_Price', 'Berkshire_Vol.', 'Netflix_Price', 'Netflix_Vol.',\n",
       "       'Amazon_Price', 'Amazon_Vol.', 'Meta_Price', 'Meta_Vol.', 'Gold_Price',\n",
       "       'Gold_Vol.'],\n",
       "      dtype='object')"
      ]
     },
     "execution_count": 19,
     "metadata": {},
     "output_type": "execute_result"
    }
   ],
   "source": [
    "data.columns"
   ]
  },
  {
   "cell_type": "code",
   "execution_count": 20,
   "metadata": {},
   "outputs": [
    {
     "name": "stdout",
     "output_type": "stream",
     "text": [
      "Natural_Gas_Price\n",
      "float64\n",
      "Natural_Gas_Vol.\n",
      "float64\n",
      "Crude_oil_Price\n",
      "float64\n",
      "Crude_oil_Vol.\n",
      "float64\n",
      "Copper_Price\n",
      "float64\n",
      "Copper_Vol.\n",
      "float64\n",
      "Bitcoin_Price\n",
      "float64\n",
      "Bitcoin_Vol.\n",
      "float64\n",
      "Platinum_Price\n",
      "float64\n",
      "Platinum_Vol.\n",
      "float64\n",
      "Ethereum_Price\n",
      "float64\n",
      "Ethereum_Vol.\n",
      "float64\n",
      "S&P_500_Price\n",
      "float64\n",
      "Nasdaq_100_Price\n",
      "float64\n",
      "Nasdaq_100_Vol.\n",
      "float64\n",
      "Apple_Price\n",
      "float64\n",
      "Apple_Vol.\n",
      "float64\n",
      "Tesla_Price\n",
      "float64\n",
      "Tesla_Vol.\n",
      "float64\n",
      "Microsoft_Price\n",
      "float64\n",
      "Microsoft_Vol.\n",
      "float64\n",
      "Silver_Price\n",
      "float64\n",
      "Silver_Vol.\n",
      "float64\n",
      "Google_Price\n",
      "float64\n",
      "Google_Vol.\n",
      "float64\n",
      "Nvidia_Price\n",
      "float64\n",
      "Nvidia_Vol.\n",
      "float64\n",
      "Berkshire_Price\n",
      "float64\n",
      "Berkshire_Vol.\n",
      "float64\n",
      "Netflix_Price\n",
      "float64\n",
      "Netflix_Vol.\n",
      "float64\n",
      "Amazon_Price\n",
      "float64\n",
      "Amazon_Vol.\n",
      "float64\n",
      "Meta_Price\n",
      "float64\n",
      "Meta_Vol.\n",
      "float64\n",
      "Gold_Price\n",
      "float64\n",
      "Gold_Vol.\n",
      "float64\n"
     ]
    }
   ],
   "source": [
    "for column in data.columns:\n",
    "    print(column)\n",
    "    print(data[column].dtype)"
   ]
  },
  {
   "cell_type": "code",
   "execution_count": 21,
   "metadata": {},
   "outputs": [
    {
     "name": "stdout",
     "output_type": "stream",
     "text": [
      "Natural_Gas_Price    0\n",
      "Natural_Gas_Vol.     0\n",
      "Crude_oil_Price      0\n",
      "Crude_oil_Vol.       0\n",
      "Copper_Price         0\n",
      "Copper_Vol.          0\n",
      "Bitcoin_Price        0\n",
      "Bitcoin_Vol.         0\n",
      "Platinum_Price       0\n",
      "Platinum_Vol.        0\n",
      "Ethereum_Price       0\n",
      "Ethereum_Vol.        0\n",
      "S&P_500_Price        0\n",
      "Nasdaq_100_Price     0\n",
      "Nasdaq_100_Vol.      0\n",
      "Apple_Price          0\n",
      "Apple_Vol.           0\n",
      "Tesla_Price          0\n",
      "Tesla_Vol.           0\n",
      "Microsoft_Price      0\n",
      "Microsoft_Vol.       0\n",
      "Silver_Price         0\n",
      "Silver_Vol.          0\n",
      "Google_Price         0\n",
      "Google_Vol.          0\n",
      "Nvidia_Price         0\n",
      "Nvidia_Vol.          0\n",
      "Berkshire_Price      0\n",
      "Berkshire_Vol.       0\n",
      "Netflix_Price        0\n",
      "Netflix_Vol.         0\n",
      "Amazon_Price         0\n",
      "Amazon_Vol.          0\n",
      "Meta_Price           0\n",
      "Meta_Vol.            0\n",
      "Gold_Price           0\n",
      "Gold_Vol.            0\n",
      "dtype: int64\n"
     ]
    }
   ],
   "source": [
    "empty_values = data.isna().sum()\n",
    "print(empty_values)"
   ]
  },
  {
   "cell_type": "code",
   "execution_count": 22,
   "metadata": {},
   "outputs": [
    {
     "data": {
      "text/html": [
       "<div>\n",
       "<style scoped>\n",
       "    .dataframe tbody tr th:only-of-type {\n",
       "        vertical-align: middle;\n",
       "    }\n",
       "\n",
       "    .dataframe tbody tr th {\n",
       "        vertical-align: top;\n",
       "    }\n",
       "\n",
       "    .dataframe thead th {\n",
       "        text-align: right;\n",
       "    }\n",
       "</style>\n",
       "<table border=\"1\" class=\"dataframe\">\n",
       "  <thead>\n",
       "    <tr style=\"text-align: right;\">\n",
       "      <th></th>\n",
       "      <th>Natural_Gas_Price</th>\n",
       "      <th>Natural_Gas_Vol.</th>\n",
       "      <th>Crude_oil_Price</th>\n",
       "      <th>Crude_oil_Vol.</th>\n",
       "      <th>Copper_Price</th>\n",
       "      <th>Copper_Vol.</th>\n",
       "      <th>Bitcoin_Price</th>\n",
       "      <th>Bitcoin_Vol.</th>\n",
       "      <th>Platinum_Price</th>\n",
       "      <th>Platinum_Vol.</th>\n",
       "      <th>...</th>\n",
       "      <th>Berkshire_Price</th>\n",
       "      <th>Berkshire_Vol.</th>\n",
       "      <th>Netflix_Price</th>\n",
       "      <th>Netflix_Vol.</th>\n",
       "      <th>Amazon_Price</th>\n",
       "      <th>Amazon_Vol.</th>\n",
       "      <th>Meta_Price</th>\n",
       "      <th>Meta_Vol.</th>\n",
       "      <th>Gold_Price</th>\n",
       "      <th>Gold_Vol.</th>\n",
       "    </tr>\n",
       "  </thead>\n",
       "  <tbody>\n",
       "    <tr>\n",
       "      <th>0</th>\n",
       "      <td>2.079</td>\n",
       "      <td>161340.0</td>\n",
       "      <td>72.28</td>\n",
       "      <td>577940.0</td>\n",
       "      <td>3.8215</td>\n",
       "      <td>35639.25226</td>\n",
       "      <td>43194.7</td>\n",
       "      <td>42650.0</td>\n",
       "      <td>901.6</td>\n",
       "      <td>7384.192623</td>\n",
       "      <td>...</td>\n",
       "      <td>589498.0</td>\n",
       "      <td>10580.0</td>\n",
       "      <td>564.64</td>\n",
       "      <td>4030000.0</td>\n",
       "      <td>171.81</td>\n",
       "      <td>117220000.0</td>\n",
       "      <td>474.99</td>\n",
       "      <td>84710000.0</td>\n",
       "      <td>2053.7</td>\n",
       "      <td>260920.0</td>\n",
       "    </tr>\n",
       "  </tbody>\n",
       "</table>\n",
       "<p>1 rows × 37 columns</p>\n",
       "</div>"
      ],
      "text/plain": [
       "   Natural_Gas_Price  Natural_Gas_Vol.  Crude_oil_Price  Crude_oil_Vol.  \\\n",
       "0              2.079          161340.0            72.28        577940.0   \n",
       "\n",
       "   Copper_Price  Copper_Vol.  Bitcoin_Price  Bitcoin_Vol.  Platinum_Price  \\\n",
       "0        3.8215  35639.25226        43194.7       42650.0           901.6   \n",
       "\n",
       "   Platinum_Vol.  ...  Berkshire_Price  Berkshire_Vol.  Netflix_Price  \\\n",
       "0    7384.192623  ...         589498.0         10580.0         564.64   \n",
       "\n",
       "   Netflix_Vol.  Amazon_Price  Amazon_Vol.  Meta_Price   Meta_Vol.  \\\n",
       "0     4030000.0        171.81  117220000.0      474.99  84710000.0   \n",
       "\n",
       "   Gold_Price  Gold_Vol.  \n",
       "0      2053.7   260920.0  \n",
       "\n",
       "[1 rows x 37 columns]"
      ]
     },
     "execution_count": 22,
     "metadata": {},
     "output_type": "execute_result"
    }
   ],
   "source": [
    "data.head(1)"
   ]
  },
  {
   "cell_type": "code",
   "execution_count": 23,
   "metadata": {},
   "outputs": [
    {
     "name": "stdout",
     "output_type": "stream",
     "text": [
      "37\n"
     ]
    }
   ],
   "source": [
    "num_columns = len(data.columns)\n",
    "print(num_columns)"
   ]
  },
  {
   "cell_type": "code",
   "execution_count": 28,
   "metadata": {},
   "outputs": [
    {
     "ename": "ValueError",
     "evalue": "all the input array dimensions except for the concatenation axis must match exactly, but along dimension 1, the array at index 0 has size 1243 and the array at index 1 has size 36",
     "output_type": "error",
     "traceback": [
      "\u001b[0;31m---------------------------------------------------------------------------\u001b[0m",
      "\u001b[0;31mValueError\u001b[0m                                Traceback (most recent call last)",
      "Cell \u001b[0;32mIn[28], line 4\u001b[0m\n\u001b[1;32m      1\u001b[0m data_1 \u001b[38;5;241m=\u001b[39m data\u001b[38;5;241m.\u001b[39mdrop(columns\u001b[38;5;241m=\u001b[39m\u001b[38;5;124m\"\u001b[39m\u001b[38;5;124mBitcoin_Price\u001b[39m\u001b[38;5;124m\"\u001b[39m)\n\u001b[1;32m      2\u001b[0m X \u001b[38;5;241m=\u001b[39m data[\u001b[38;5;124m\"\u001b[39m\u001b[38;5;124mBitcoin_Price\u001b[39m\u001b[38;5;124m\"\u001b[39m]\u001b[38;5;241m.\u001b[39mvalues\u001b[38;5;241m.\u001b[39mreshape(\u001b[38;5;241m-\u001b[39m\u001b[38;5;241m1\u001b[39m, \u001b[38;5;241m1\u001b[39m)\n\u001b[0;32m----> 4\u001b[0m matrix_result \u001b[38;5;241m=\u001b[39m \u001b[43mpc\u001b[49m\u001b[38;5;241;43m.\u001b[39;49m\u001b[43mpc_lightweight\u001b[49m\u001b[43m(\u001b[49m\n\u001b[1;32m      5\u001b[0m \u001b[43m    \u001b[49m\u001b[43mX\u001b[49m\u001b[38;5;241;43m=\u001b[39;49m\u001b[43mdata\u001b[49m\u001b[43m[\u001b[49m\u001b[38;5;124;43m\"\u001b[39;49m\u001b[38;5;124;43mBitcoin_Price\u001b[39;49m\u001b[38;5;124;43m\"\u001b[39;49m\u001b[43m]\u001b[49m\u001b[43m,\u001b[49m\u001b[43m  \u001b[49m\u001b[38;5;66;43;03m# Ensure X is a Series\u001b[39;49;00m\n\u001b[1;32m      6\u001b[0m \u001b[43m    \u001b[49m\u001b[43mY\u001b[49m\u001b[38;5;241;43m=\u001b[39;49m\u001b[43mdata_1\u001b[49m\u001b[38;5;241;43m.\u001b[39;49m\u001b[43mto_numpy\u001b[49m\u001b[43m(\u001b[49m\u001b[43m)\u001b[49m\u001b[43m,\u001b[49m\u001b[43m  \u001b[49m\u001b[38;5;66;43;03m# Ensure Y is a DataFrame\u001b[39;49;00m\n\u001b[1;32m      7\u001b[0m \u001b[43m    \u001b[49m\u001b[43mE\u001b[49m\u001b[38;5;241;43m=\u001b[39;49m\u001b[38;5;241;43m3\u001b[39;49m\u001b[43m,\u001b[49m\u001b[43m  \u001b[49m\u001b[38;5;66;43;03m# Example embedding dimension\u001b[39;49;00m\n\u001b[1;32m      8\u001b[0m \u001b[43m    \u001b[49m\u001b[43mtau\u001b[49m\u001b[38;5;241;43m=\u001b[39;49m\u001b[38;5;241;43m2\u001b[39;49m\u001b[43m,\u001b[49m\u001b[43m  \u001b[49m\u001b[38;5;66;43;03m# Example time delay\u001b[39;49;00m\n\u001b[1;32m      9\u001b[0m \u001b[43m    \u001b[49m\u001b[43mmetric\u001b[49m\u001b[38;5;241;43m=\u001b[39;49m\u001b[38;5;124;43m\"\u001b[39;49m\u001b[38;5;124;43mlorentzian\u001b[39;49m\u001b[38;5;124;43m\"\u001b[39;49m\u001b[43m,\u001b[49m\u001b[43m  \u001b[49m\u001b[38;5;66;43;03m# Valid metric type\u001b[39;49;00m\n\u001b[1;32m     10\u001b[0m \u001b[43m    \u001b[49m\u001b[43mh\u001b[49m\u001b[38;5;241;43m=\u001b[39;49m\u001b[38;5;241;43m1\u001b[39;49m\u001b[43m,\u001b[49m\n\u001b[1;32m     11\u001b[0m \u001b[43m    \u001b[49m\u001b[43mweighted\u001b[49m\u001b[38;5;241;43m=\u001b[39;49m\u001b[38;5;28;43;01mFalse\u001b[39;49;00m\u001b[43m,\u001b[49m\n\u001b[1;32m     12\u001b[0m \u001b[43m    \u001b[49m\u001b[43mrelative\u001b[49m\u001b[38;5;241;43m=\u001b[39;49m\u001b[38;5;28;43;01mTrue\u001b[39;49;00m\u001b[43m,\u001b[49m\n\u001b[1;32m     13\u001b[0m \u001b[43m    \u001b[49m\u001b[43mverbose\u001b[49m\u001b[38;5;241;43m=\u001b[39;49m\u001b[38;5;28;43;01mTrue\u001b[39;49;00m\n\u001b[1;32m     14\u001b[0m \u001b[43m)\u001b[49m\n\u001b[1;32m     16\u001b[0m \u001b[38;5;28mprint\u001b[39m(\u001b[38;5;124m\"\u001b[39m\u001b[38;5;124mPattern Causality Matrix Results:\u001b[39m\u001b[38;5;124m\"\u001b[39m)\n\u001b[1;32m     17\u001b[0m \u001b[38;5;28mprint\u001b[39m(matrix_result)\n",
      "File \u001b[0;32m/opt/conda/lib/python3.11/site-packages/pattern_causality/pattern_causality.py:263\u001b[0m, in \u001b[0;36mpattern_causality.pc_lightweight\u001b[0;34m(self, X, Y, E, tau, metric, h, weighted, relative, verbose)\u001b[0m\n\u001b[1;32m    260\u001b[0m X, Y \u001b[38;5;241m=\u001b[39m \u001b[38;5;28mself\u001b[39m\u001b[38;5;241m.\u001b[39m_validate_input(X, Y)\n\u001b[1;32m    262\u001b[0m \u001b[38;5;28;01mif\u001b[39;00m verbose:\n\u001b[0;32m--> 263\u001b[0m     stats \u001b[38;5;241m=\u001b[39m \u001b[38;5;28;43mself\u001b[39;49m\u001b[38;5;241;43m.\u001b[39;49m\u001b[43m_calculate_basic_stats\u001b[49m\u001b[43m(\u001b[49m\u001b[43mX\u001b[49m\u001b[43m,\u001b[49m\u001b[43m \u001b[49m\u001b[43mY\u001b[49m\u001b[43m)\u001b[49m\n\u001b[1;32m    264\u001b[0m     \u001b[38;5;28mself\u001b[39m\u001b[38;5;241m.\u001b[39m_print_if_verbose(\u001b[38;5;124mf\u001b[39m\u001b[38;5;124m\"\u001b[39m\u001b[38;5;130;01m\\n\u001b[39;00m\u001b[38;5;124mInput Statistics:\u001b[39m\u001b[38;5;124m\"\u001b[39m, verbose)\n\u001b[1;32m    265\u001b[0m     \u001b[38;5;28mself\u001b[39m\u001b[38;5;241m.\u001b[39m_print_if_verbose(\u001b[38;5;124mf\u001b[39m\u001b[38;5;124m\"\u001b[39m\u001b[38;5;124mX: mean=\u001b[39m\u001b[38;5;132;01m{\u001b[39;00mstats[\u001b[38;5;124m'\u001b[39m\u001b[38;5;124mX_mean\u001b[39m\u001b[38;5;124m'\u001b[39m]\u001b[38;5;132;01m:\u001b[39;00m\u001b[38;5;124m.3f\u001b[39m\u001b[38;5;132;01m}\u001b[39;00m\u001b[38;5;124m, std=\u001b[39m\u001b[38;5;132;01m{\u001b[39;00mstats[\u001b[38;5;124m'\u001b[39m\u001b[38;5;124mX_std\u001b[39m\u001b[38;5;124m'\u001b[39m]\u001b[38;5;132;01m:\u001b[39;00m\u001b[38;5;124m.3f\u001b[39m\u001b[38;5;132;01m}\u001b[39;00m\u001b[38;5;124m\"\u001b[39m, verbose)\n",
      "File \u001b[0;32m/opt/conda/lib/python3.11/site-packages/pattern_causality/pattern_causality.py:162\u001b[0m, in \u001b[0;36mpattern_causality._calculate_basic_stats\u001b[0;34m(self, X, Y)\u001b[0m\n\u001b[1;32m    155\u001b[0m \u001b[38;5;250m\u001b[39m\u001b[38;5;124;03m\"\"\"Calculate basic statistics for time series\"\"\"\u001b[39;00m\n\u001b[1;32m    156\u001b[0m X, Y \u001b[38;5;241m=\u001b[39m np\u001b[38;5;241m.\u001b[39marray(X), np\u001b[38;5;241m.\u001b[39marray(Y)\n\u001b[1;32m    157\u001b[0m stats \u001b[38;5;241m=\u001b[39m {\n\u001b[1;32m    158\u001b[0m     \u001b[38;5;124m\"\u001b[39m\u001b[38;5;124mX_mean\u001b[39m\u001b[38;5;124m\"\u001b[39m: np\u001b[38;5;241m.\u001b[39mmean(X),\n\u001b[1;32m    159\u001b[0m     \u001b[38;5;124m\"\u001b[39m\u001b[38;5;124mX_std\u001b[39m\u001b[38;5;124m\"\u001b[39m: np\u001b[38;5;241m.\u001b[39mstd(X),\n\u001b[1;32m    160\u001b[0m     \u001b[38;5;124m\"\u001b[39m\u001b[38;5;124mY_mean\u001b[39m\u001b[38;5;124m\"\u001b[39m: np\u001b[38;5;241m.\u001b[39mmean(Y),\n\u001b[1;32m    161\u001b[0m     \u001b[38;5;124m\"\u001b[39m\u001b[38;5;124mY_std\u001b[39m\u001b[38;5;124m\"\u001b[39m: np\u001b[38;5;241m.\u001b[39mstd(Y),\n\u001b[0;32m--> 162\u001b[0m     \u001b[38;5;124m\"\u001b[39m\u001b[38;5;124mcorrelation\u001b[39m\u001b[38;5;124m\"\u001b[39m: \u001b[43mnp\u001b[49m\u001b[38;5;241;43m.\u001b[39;49m\u001b[43mcorrcoef\u001b[49m\u001b[43m(\u001b[49m\u001b[43mX\u001b[49m\u001b[43m,\u001b[49m\u001b[43m \u001b[49m\u001b[43mY\u001b[49m\u001b[43m)\u001b[49m[\u001b[38;5;241m0\u001b[39m, \u001b[38;5;241m1\u001b[39m],\n\u001b[1;32m    163\u001b[0m     \u001b[38;5;124m\"\u001b[39m\u001b[38;5;124mX_length\u001b[39m\u001b[38;5;124m\"\u001b[39m: \u001b[38;5;28mlen\u001b[39m(X),\n\u001b[1;32m    164\u001b[0m     \u001b[38;5;124m\"\u001b[39m\u001b[38;5;124mmissing_values\u001b[39m\u001b[38;5;124m\"\u001b[39m: np\u001b[38;5;241m.\u001b[39msum(np\u001b[38;5;241m.\u001b[39misnan(X)) \u001b[38;5;241m+\u001b[39m np\u001b[38;5;241m.\u001b[39msum(np\u001b[38;5;241m.\u001b[39misnan(Y))\n\u001b[1;32m    165\u001b[0m }\n\u001b[1;32m    166\u001b[0m \u001b[38;5;28;01mreturn\u001b[39;00m stats\n",
      "File \u001b[0;32m/opt/conda/lib/python3.11/site-packages/numpy/lib/function_base.py:2889\u001b[0m, in \u001b[0;36mcorrcoef\u001b[0;34m(x, y, rowvar, bias, ddof, dtype)\u001b[0m\n\u001b[1;32m   2885\u001b[0m \u001b[38;5;28;01mif\u001b[39;00m bias \u001b[38;5;129;01mis\u001b[39;00m \u001b[38;5;129;01mnot\u001b[39;00m np\u001b[38;5;241m.\u001b[39m_NoValue \u001b[38;5;129;01mor\u001b[39;00m ddof \u001b[38;5;129;01mis\u001b[39;00m \u001b[38;5;129;01mnot\u001b[39;00m np\u001b[38;5;241m.\u001b[39m_NoValue:\n\u001b[1;32m   2886\u001b[0m     \u001b[38;5;66;03m# 2015-03-15, 1.10\u001b[39;00m\n\u001b[1;32m   2887\u001b[0m     warnings\u001b[38;5;241m.\u001b[39mwarn(\u001b[38;5;124m'\u001b[39m\u001b[38;5;124mbias and ddof have no effect and are deprecated\u001b[39m\u001b[38;5;124m'\u001b[39m,\n\u001b[1;32m   2888\u001b[0m                   \u001b[38;5;167;01mDeprecationWarning\u001b[39;00m, stacklevel\u001b[38;5;241m=\u001b[39m\u001b[38;5;241m2\u001b[39m)\n\u001b[0;32m-> 2889\u001b[0m c \u001b[38;5;241m=\u001b[39m \u001b[43mcov\u001b[49m\u001b[43m(\u001b[49m\u001b[43mx\u001b[49m\u001b[43m,\u001b[49m\u001b[43m \u001b[49m\u001b[43my\u001b[49m\u001b[43m,\u001b[49m\u001b[43m \u001b[49m\u001b[43mrowvar\u001b[49m\u001b[43m,\u001b[49m\u001b[43m \u001b[49m\u001b[43mdtype\u001b[49m\u001b[38;5;241;43m=\u001b[39;49m\u001b[43mdtype\u001b[49m\u001b[43m)\u001b[49m\n\u001b[1;32m   2890\u001b[0m \u001b[38;5;28;01mtry\u001b[39;00m:\n\u001b[1;32m   2891\u001b[0m     d \u001b[38;5;241m=\u001b[39m diag(c)\n",
      "File \u001b[0;32m/opt/conda/lib/python3.11/site-packages/numpy/lib/function_base.py:2683\u001b[0m, in \u001b[0;36mcov\u001b[0;34m(m, y, rowvar, bias, ddof, fweights, aweights, dtype)\u001b[0m\n\u001b[1;32m   2681\u001b[0m     \u001b[38;5;28;01mif\u001b[39;00m \u001b[38;5;129;01mnot\u001b[39;00m rowvar \u001b[38;5;129;01mand\u001b[39;00m y\u001b[38;5;241m.\u001b[39mshape[\u001b[38;5;241m0\u001b[39m] \u001b[38;5;241m!=\u001b[39m \u001b[38;5;241m1\u001b[39m:\n\u001b[1;32m   2682\u001b[0m         y \u001b[38;5;241m=\u001b[39m y\u001b[38;5;241m.\u001b[39mT\n\u001b[0;32m-> 2683\u001b[0m     X \u001b[38;5;241m=\u001b[39m \u001b[43mnp\u001b[49m\u001b[38;5;241;43m.\u001b[39;49m\u001b[43mconcatenate\u001b[49m\u001b[43m(\u001b[49m\u001b[43m(\u001b[49m\u001b[43mX\u001b[49m\u001b[43m,\u001b[49m\u001b[43m \u001b[49m\u001b[43my\u001b[49m\u001b[43m)\u001b[49m\u001b[43m,\u001b[49m\u001b[43m \u001b[49m\u001b[43maxis\u001b[49m\u001b[38;5;241;43m=\u001b[39;49m\u001b[38;5;241;43m0\u001b[39;49m\u001b[43m)\u001b[49m\n\u001b[1;32m   2685\u001b[0m \u001b[38;5;28;01mif\u001b[39;00m ddof \u001b[38;5;129;01mis\u001b[39;00m \u001b[38;5;28;01mNone\u001b[39;00m:\n\u001b[1;32m   2686\u001b[0m     \u001b[38;5;28;01mif\u001b[39;00m bias \u001b[38;5;241m==\u001b[39m \u001b[38;5;241m0\u001b[39m:\n",
      "\u001b[0;31mValueError\u001b[0m: all the input array dimensions except for the concatenation axis must match exactly, but along dimension 1, the array at index 0 has size 1243 and the array at index 1 has size 36"
     ]
    }
   ],
   "source": [
    "data_1 = data.drop(columns=\"Bitcoin_Price\")\n",
    "X = data[\"Bitcoin_Price\"].values.reshape(-1, 1)\n",
    "\n",
    "matrix_result = pc.pc_lightweight(\n",
    "    X=data[\"Bitcoin_Price\"],  # Ensure X is a Series\n",
    "    Y=data_1.to_numpy(),  # Ensure Y is a DataFrame\n",
    "    E=3,  # Example embedding dimension\n",
    "    tau=2,  # Example time delay\n",
    "    metric=\"lorentzian\",  # Valid metric type\n",
    "    h=1,\n",
    "    weighted=False,\n",
    "    relative=True,\n",
    "    verbose=True\n",
    ")\n",
    "\n",
    "print(\"Pattern Causality Matrix Results:\")\n",
    "print(matrix_result)\n"
   ]
  },
  {
   "cell_type": "code",
   "execution_count": null,
   "metadata": {},
   "outputs": [],
   "source": [
    "print(data.columns)"
   ]
  },
  {
   "cell_type": "code",
   "execution_count": null,
   "metadata": {},
   "outputs": [],
   "source": [
    "for i, col in enumerate(data.columns):\n",
    "    print(f\"Renaming '{col}' → 'c{i+1}'\")\n",
    "    \n",
    "data.columns = [f'c{i+1}' for i in range(len(data.columns))]"
   ]
  },
  {
   "cell_type": "code",
   "execution_count": null,
   "metadata": {
    "scrolled": true
   },
   "outputs": [],
   "source": [
    "print(data.columns)"
   ]
  },
  {
   "cell_type": "code",
   "execution_count": null,
   "metadata": {},
   "outputs": [],
   "source": [
    "matrix_result = pc.pc_matrix(\n",
    "    dataset=data,\n",
    "    E=3,\n",
    "    tau=1,\n",
    "    metric=\"euclidean\",\n",
    "    h=1,\n",
    "    weighted=True\n",
    ")\n",
    "\n",
    "print(\"Pattern Causality Matrix Results:\")\n",
    "print(matrix_result)"
   ]
  },
  {
   "cell_type": "code",
   "execution_count": null,
   "metadata": {},
   "outputs": [],
   "source": [
    "convert_matrix = pc.to_matrix(matrix_result)\n",
    "cmap_mapping = {\n",
    "    'positive': plt.get_cmap('Blues'),\n",
    "    'negative': plt.get_cmap('Reds'),\n",
    "    'dark':     plt.get_cmap('Purples')\n",
    "}\n",
    "\n",
    "for key, cmap in cmap_mapping.items():\n",
    "    cmap.set_bad(color='white')\n",
    "\n",
    "fig, axs = plt.subplots(3, 1, figsize=(60, 60))\n",
    "\n",
    "titles = {\n",
    "    'positive': \"Positive Causality\",\n",
    "    'negative': \"Negative Causality\",\n",
    "    'dark':     \"Dark Causality\"\n",
    "}\n",
    "\n",
    "for ax, key in zip(axs, ['positive', 'negative', 'dark']):\n",
    "    df = convert_matrix[key]\n",
    "    data_masked = np.ma.masked_invalid(df.values)\n",
    "    cmap = cmap_mapping[key]\n",
    "    \n",
    "    im = ax.imshow(data_masked, interpolation='nearest', cmap=cmap)\n",
    "    \n",
    "    ax.set_xticks(np.arange(df.shape[1]))\n",
    "    ax.set_xticklabels(df.columns, fontsize=12)\n",
    "    ax.set_yticks(np.arange(df.shape[0]))\n",
    "    ax.set_yticklabels(df.index, fontsize=12)\n",
    "    \n",
    "    ax.set_title(titles[key], fontsize=14)\n",
    "    \n",
    "    cbar = fig.colorbar(im, ax=ax, fraction=0.046, pad=0.04)\n",
    "    cbar.ax.tick_params(labelsize=12)\n",
    "\n",
    "plt.tight_layout()\n",
    "plt.show()"
   ]
  },
  {
   "cell_type": "code",
   "execution_count": null,
   "metadata": {},
   "outputs": [],
   "source": []
  }
 ],
 "metadata": {
  "kaggle": {
   "accelerator": "none",
   "dataSources": [
    {
     "datasetId": 4399365,
     "sourceId": 7553516,
     "sourceType": "datasetVersion"
    }
   ],
   "dockerImageVersionId": 30886,
   "isGpuEnabled": false,
   "isInternetEnabled": false,
   "language": "python",
   "sourceType": "notebook"
  },
  "kernelspec": {
   "display_name": "Python 3 (ipykernel)",
   "language": "python",
   "name": "python3"
  },
  "language_info": {
   "codemirror_mode": {
    "name": "ipython",
    "version": 3
   },
   "file_extension": ".py",
   "mimetype": "text/x-python",
   "name": "python",
   "nbconvert_exporter": "python",
   "pygments_lexer": "ipython3",
   "version": "3.11.9"
  }
 },
 "nbformat": 4,
 "nbformat_minor": 4
}
